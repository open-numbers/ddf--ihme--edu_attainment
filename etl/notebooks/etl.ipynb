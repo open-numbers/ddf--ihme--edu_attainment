{
 "cells": [
  {
   "cell_type": "code",
   "execution_count": 1,
   "metadata": {
    "collapsed": true
   },
   "outputs": [],
   "source": [
    "import pandas as pd\n",
    "\n",
    "from ddf_utils.str import to_concept_id"
   ]
  },
  {
   "cell_type": "code",
   "execution_count": 2,
   "metadata": {
    "collapsed": true
   },
   "outputs": [],
   "source": [
    "cb_csv = '../source/IHME_GLOBAL_EDUCATIONAL_ATTAINMENT_1970_2015/IHME_GLOBAL_EDUCATIONAL_ATTAINMENT_1970_2015_CB_Y2015M04D27.CSV'\n",
    "data_csv = '../source/IHME_GLOBAL_EDUCATIONAL_ATTAINMENT_1970_2015/IHME_GLOBAL_EDUCATIONAL_ATTAINMENT_1970_2015_Y2015M04D27.CSV'"
   ]
  },
  {
   "cell_type": "code",
   "execution_count": 3,
   "metadata": {
    "collapsed": true
   },
   "outputs": [],
   "source": [
    "cb = pd.read_csv(cb_csv, skiprows=1)"
   ]
  },
  {
   "cell_type": "code",
   "execution_count": 4,
   "metadata": {
    "collapsed": true
   },
   "outputs": [],
   "source": [
    "cb = cb.drop('Variable:', axis=1)"
   ]
  },
  {
   "cell_type": "code",
   "execution_count": 5,
   "metadata": {
    "collapsed": false
   },
   "outputs": [
    {
     "data": {
      "text/html": [
       "<div>\n",
       "<table border=\"1\" class=\"dataframe\">\n",
       "  <thead>\n",
       "    <tr style=\"text-align: right;\">\n",
       "      <th></th>\n",
       "      <th>location_id</th>\n",
       "      <th>location_code</th>\n",
       "      <th>location_name</th>\n",
       "      <th>year</th>\n",
       "      <th>age_group_id</th>\n",
       "      <th>age_group_name</th>\n",
       "      <th>sex_id</th>\n",
       "      <th>sex_name</th>\n",
       "      <th>metric</th>\n",
       "      <th>unit</th>\n",
       "      <th>mean</th>\n",
       "      <th>upper</th>\n",
       "      <th>lower</th>\n",
       "    </tr>\n",
       "  </thead>\n",
       "  <tbody>\n",
       "    <tr>\n",
       "      <th>0</th>\n",
       "      <td>Location ID</td>\n",
       "      <td>Country ISO 3166-1 Alpha-3 Code, GBD Region Co...</td>\n",
       "      <td>Country, Region, or Super-Region Name</td>\n",
       "      <td>Year</td>\n",
       "      <td>Age Group ID</td>\n",
       "      <td>Age Group Name</td>\n",
       "      <td>Sex ID</td>\n",
       "      <td>Sex Name</td>\n",
       "      <td>Metric</td>\n",
       "      <td>Unit</td>\n",
       "      <td>Mean</td>\n",
       "      <td>95% Uncertainty Interval - Upper Bound</td>\n",
       "      <td>95% Uncertainty Interval - Lower Bound</td>\n",
       "    </tr>\n",
       "    <tr>\n",
       "      <th>1</th>\n",
       "      <td>1</td>\n",
       "      <td>AFG</td>\n",
       "      <td>Afghanistan</td>\n",
       "      <td>1970</td>\n",
       "      <td>149</td>\n",
       "      <td>15 to 24</td>\n",
       "      <td>1</td>\n",
       "      <td>Males</td>\n",
       "      <td>Age Standardized Education Per Capita</td>\n",
       "      <td>Years</td>\n",
       "      <td>NaN</td>\n",
       "      <td>NaN</td>\n",
       "      <td>NaN</td>\n",
       "    </tr>\n",
       "    <tr>\n",
       "      <th>2</th>\n",
       "      <td>4</td>\n",
       "      <td>AGO</td>\n",
       "      <td>Albania</td>\n",
       "      <td>1971</td>\n",
       "      <td>150</td>\n",
       "      <td>15 to 44</td>\n",
       "      <td>2</td>\n",
       "      <td>Females</td>\n",
       "      <td>Education Per Capita</td>\n",
       "      <td>NaN</td>\n",
       "      <td>NaN</td>\n",
       "      <td>NaN</td>\n",
       "      <td>NaN</td>\n",
       "    </tr>\n",
       "    <tr>\n",
       "      <th>3</th>\n",
       "      <td>5</td>\n",
       "      <td>ALB</td>\n",
       "      <td>Algeria</td>\n",
       "      <td>1972</td>\n",
       "      <td>151</td>\n",
       "      <td>25 plus</td>\n",
       "      <td>3</td>\n",
       "      <td>Both</td>\n",
       "      <td>Population Weighted Education Per Capita</td>\n",
       "      <td>NaN</td>\n",
       "      <td>NaN</td>\n",
       "      <td>NaN</td>\n",
       "      <td>NaN</td>\n",
       "    </tr>\n",
       "    <tr>\n",
       "      <th>4</th>\n",
       "      <td>6</td>\n",
       "      <td>AND</td>\n",
       "      <td>Andean Latin America</td>\n",
       "      <td>1973</td>\n",
       "      <td>152</td>\n",
       "      <td>25 to 34</td>\n",
       "      <td>NaN</td>\n",
       "      <td>NaN</td>\n",
       "      <td>NaN</td>\n",
       "      <td>NaN</td>\n",
       "      <td>NaN</td>\n",
       "      <td>NaN</td>\n",
       "      <td>NaN</td>\n",
       "    </tr>\n",
       "  </tbody>\n",
       "</table>\n",
       "</div>"
      ],
      "text/plain": [
       "   location_id                                      location_code  \\\n",
       "0  Location ID  Country ISO 3166-1 Alpha-3 Code, GBD Region Co...   \n",
       "1            1                                                AFG   \n",
       "2            4                                                AGO   \n",
       "3            5                                                ALB   \n",
       "4            6                                                AND   \n",
       "\n",
       "                           location_name  year  age_group_id  age_group_name  \\\n",
       "0  Country, Region, or Super-Region Name  Year  Age Group ID  Age Group Name   \n",
       "1                            Afghanistan  1970           149        15 to 24   \n",
       "2                                Albania  1971           150        15 to 44   \n",
       "3                                Algeria  1972           151         25 plus   \n",
       "4                   Andean Latin America  1973           152        25 to 34   \n",
       "\n",
       "   sex_id  sex_name                                    metric   unit  mean  \\\n",
       "0  Sex ID  Sex Name                                    Metric   Unit  Mean   \n",
       "1       1     Males     Age Standardized Education Per Capita  Years   NaN   \n",
       "2       2   Females                      Education Per Capita    NaN   NaN   \n",
       "3       3      Both  Population Weighted Education Per Capita    NaN   NaN   \n",
       "4     NaN       NaN                                       NaN    NaN   NaN   \n",
       "\n",
       "                                    upper  \\\n",
       "0  95% Uncertainty Interval - Upper Bound   \n",
       "1                                     NaN   \n",
       "2                                     NaN   \n",
       "3                                     NaN   \n",
       "4                                     NaN   \n",
       "\n",
       "                                    lower  \n",
       "0  95% Uncertainty Interval - Lower Bound  \n",
       "1                                     NaN  \n",
       "2                                     NaN  \n",
       "3                                     NaN  \n",
       "4                                     NaN  "
      ]
     },
     "execution_count": 5,
     "metadata": {},
     "output_type": "execute_result"
    }
   ],
   "source": [
    "cb.head()"
   ]
  },
  {
   "cell_type": "code",
   "execution_count": 6,
   "metadata": {
    "collapsed": true
   },
   "outputs": [],
   "source": [
    "data = pd.read_csv(data_csv)"
   ]
  },
  {
   "cell_type": "code",
   "execution_count": 7,
   "metadata": {
    "collapsed": false
   },
   "outputs": [
    {
     "data": {
      "text/html": [
       "<div>\n",
       "<table border=\"1\" class=\"dataframe\">\n",
       "  <thead>\n",
       "    <tr style=\"text-align: right;\">\n",
       "      <th></th>\n",
       "      <th>location_id</th>\n",
       "      <th>location_code</th>\n",
       "      <th>location_name</th>\n",
       "      <th>year</th>\n",
       "      <th>age_group_id</th>\n",
       "      <th>age_group_name</th>\n",
       "      <th>sex_id</th>\n",
       "      <th>sex_name</th>\n",
       "      <th>metric</th>\n",
       "      <th>unit</th>\n",
       "      <th>mean</th>\n",
       "      <th>upper</th>\n",
       "      <th>lower</th>\n",
       "    </tr>\n",
       "  </thead>\n",
       "  <tbody>\n",
       "    <tr>\n",
       "      <th>0</th>\n",
       "      <td>160</td>\n",
       "      <td>AFG</td>\n",
       "      <td>Afghanistan</td>\n",
       "      <td>1970</td>\n",
       "      <td>156</td>\n",
       "      <td>15 to 44</td>\n",
       "      <td>2</td>\n",
       "      <td>Females</td>\n",
       "      <td>Age Standardized Education Per Capita</td>\n",
       "      <td>Years</td>\n",
       "      <td>0.29</td>\n",
       "      <td>0.55</td>\n",
       "      <td>0.15</td>\n",
       "    </tr>\n",
       "    <tr>\n",
       "      <th>1</th>\n",
       "      <td>160</td>\n",
       "      <td>AFG</td>\n",
       "      <td>Afghanistan</td>\n",
       "      <td>1970</td>\n",
       "      <td>157</td>\n",
       "      <td>25 plus</td>\n",
       "      <td>1</td>\n",
       "      <td>Males</td>\n",
       "      <td>Age Standardized Education Per Capita</td>\n",
       "      <td>Years</td>\n",
       "      <td>1.03</td>\n",
       "      <td>1.66</td>\n",
       "      <td>0.63</td>\n",
       "    </tr>\n",
       "    <tr>\n",
       "      <th>2</th>\n",
       "      <td>160</td>\n",
       "      <td>AFG</td>\n",
       "      <td>Afghanistan</td>\n",
       "      <td>1970</td>\n",
       "      <td>157</td>\n",
       "      <td>25 plus</td>\n",
       "      <td>2</td>\n",
       "      <td>Females</td>\n",
       "      <td>Age Standardized Education Per Capita</td>\n",
       "      <td>Years</td>\n",
       "      <td>0.13</td>\n",
       "      <td>0.24</td>\n",
       "      <td>0.07</td>\n",
       "    </tr>\n",
       "    <tr>\n",
       "      <th>3</th>\n",
       "      <td>160</td>\n",
       "      <td>AFG</td>\n",
       "      <td>Afghanistan</td>\n",
       "      <td>1970</td>\n",
       "      <td>157</td>\n",
       "      <td>25 plus</td>\n",
       "      <td>3</td>\n",
       "      <td>Both</td>\n",
       "      <td>Age Standardized Education Per Capita</td>\n",
       "      <td>Years</td>\n",
       "      <td>0.58</td>\n",
       "      <td>0.95</td>\n",
       "      <td>0.35</td>\n",
       "    </tr>\n",
       "    <tr>\n",
       "      <th>4</th>\n",
       "      <td>168</td>\n",
       "      <td>AGO</td>\n",
       "      <td>Angola</td>\n",
       "      <td>1970</td>\n",
       "      <td>156</td>\n",
       "      <td>15 to 44</td>\n",
       "      <td>2</td>\n",
       "      <td>Females</td>\n",
       "      <td>Age Standardized Education Per Capita</td>\n",
       "      <td>Years</td>\n",
       "      <td>1.41</td>\n",
       "      <td>2.29</td>\n",
       "      <td>0.85</td>\n",
       "    </tr>\n",
       "  </tbody>\n",
       "</table>\n",
       "</div>"
      ],
      "text/plain": [
       "   location_id location_code location_name  year  age_group_id age_group_name  \\\n",
       "0          160           AFG   Afghanistan  1970           156       15 to 44   \n",
       "1          160           AFG   Afghanistan  1970           157        25 plus   \n",
       "2          160           AFG   Afghanistan  1970           157        25 plus   \n",
       "3          160           AFG   Afghanistan  1970           157        25 plus   \n",
       "4          168           AGO        Angola  1970           156       15 to 44   \n",
       "\n",
       "   sex_id sex_name                                 metric   unit  mean  upper  \\\n",
       "0       2  Females  Age Standardized Education Per Capita  Years  0.29   0.55   \n",
       "1       1    Males  Age Standardized Education Per Capita  Years  1.03   1.66   \n",
       "2       2  Females  Age Standardized Education Per Capita  Years  0.13   0.24   \n",
       "3       3     Both  Age Standardized Education Per Capita  Years  0.58   0.95   \n",
       "4       2  Females  Age Standardized Education Per Capita  Years  1.41   2.29   \n",
       "\n",
       "   lower  \n",
       "0   0.15  \n",
       "1   0.63  \n",
       "2   0.07  \n",
       "3   0.35  \n",
       "4   0.85  "
      ]
     },
     "execution_count": 7,
     "metadata": {},
     "output_type": "execute_result"
    }
   ],
   "source": [
    "data.head()"
   ]
  },
  {
   "cell_type": "code",
   "execution_count": 8,
   "metadata": {
    "collapsed": false,
    "scrolled": false
   },
   "outputs": [
    {
     "data": {
      "text/html": [
       "<div>\n",
       "<table border=\"1\" class=\"dataframe\">\n",
       "  <thead>\n",
       "    <tr style=\"text-align: right;\">\n",
       "      <th></th>\n",
       "      <th>location_code</th>\n",
       "      <th>year</th>\n",
       "      <th>age_group_name</th>\n",
       "      <th>sex_name</th>\n",
       "      <th>metric</th>\n",
       "      <th>mean</th>\n",
       "      <th>upper</th>\n",
       "      <th>lower</th>\n",
       "    </tr>\n",
       "  </thead>\n",
       "  <tbody>\n",
       "    <tr>\n",
       "      <th>73788</th>\n",
       "      <td>AFG</td>\n",
       "      <td>1983</td>\n",
       "      <td>55 to 64</td>\n",
       "      <td>Males</td>\n",
       "      <td>Education Per Capita</td>\n",
       "      <td>1.07</td>\n",
       "      <td>1.71</td>\n",
       "      <td>0.67</td>\n",
       "    </tr>\n",
       "    <tr>\n",
       "      <th>73789</th>\n",
       "      <td>AFG</td>\n",
       "      <td>1983</td>\n",
       "      <td>55 to 64</td>\n",
       "      <td>Females</td>\n",
       "      <td>Education Per Capita</td>\n",
       "      <td>0.09</td>\n",
       "      <td>0.16</td>\n",
       "      <td>0.05</td>\n",
       "    </tr>\n",
       "  </tbody>\n",
       "</table>\n",
       "</div>"
      ],
      "text/plain": [
       "      location_code  year age_group_name sex_name                metric  mean  \\\n",
       "73788           AFG  1983       55 to 64    Males  Education Per Capita  1.07   \n",
       "73789           AFG  1983       55 to 64  Females  Education Per Capita  0.09   \n",
       "\n",
       "       upper  lower  \n",
       "73788   1.71   0.67  \n",
       "73789   0.16   0.05  "
      ]
     },
     "execution_count": 8,
     "metadata": {},
     "output_type": "execute_result"
    }
   ],
   "source": [
    "data[(data.location_code == 'AFG') & (data.age_group_id == 153) & (data.year == 1983)][\n",
    "    ['location_code', 'year', 'age_group_name', 'sex_name', 'metric', 'mean', 'upper', 'lower']]"
   ]
  },
  {
   "cell_type": "code",
   "execution_count": 9,
   "metadata": {
    "collapsed": false
   },
   "outputs": [
    {
     "data": {
      "text/plain": [
       "(199640, 13)"
      ]
     },
     "execution_count": 9,
     "metadata": {},
     "output_type": "execute_result"
    }
   ],
   "source": [
    "data.shape"
   ]
  },
  {
   "cell_type": "code",
   "execution_count": null,
   "metadata": {
    "collapsed": true
   },
   "outputs": [],
   "source": []
  },
  {
   "cell_type": "code",
   "execution_count": 11,
   "metadata": {
    "collapsed": true
   },
   "outputs": [],
   "source": [
    "# datapoints"
   ]
  },
  {
   "cell_type": "code",
   "execution_count": 12,
   "metadata": {
    "collapsed": true
   },
   "outputs": [],
   "source": [
    "data['metric'] = data['metric'].map(to_concept_id)"
   ]
  },
  {
   "cell_type": "code",
   "execution_count": 13,
   "metadata": {
    "collapsed": false
   },
   "outputs": [
    {
     "data": {
      "text/html": [
       "<div>\n",
       "<table border=\"1\" class=\"dataframe\">\n",
       "  <thead>\n",
       "    <tr style=\"text-align: right;\">\n",
       "      <th></th>\n",
       "      <th>location_id</th>\n",
       "      <th>location_code</th>\n",
       "      <th>location_name</th>\n",
       "      <th>year</th>\n",
       "      <th>age_group_id</th>\n",
       "      <th>age_group_name</th>\n",
       "      <th>sex_id</th>\n",
       "      <th>sex_name</th>\n",
       "      <th>metric</th>\n",
       "      <th>unit</th>\n",
       "      <th>mean</th>\n",
       "      <th>upper</th>\n",
       "      <th>lower</th>\n",
       "    </tr>\n",
       "  </thead>\n",
       "  <tbody>\n",
       "    <tr>\n",
       "      <th>0</th>\n",
       "      <td>160</td>\n",
       "      <td>AFG</td>\n",
       "      <td>Afghanistan</td>\n",
       "      <td>1970</td>\n",
       "      <td>156</td>\n",
       "      <td>15 to 44</td>\n",
       "      <td>2</td>\n",
       "      <td>Females</td>\n",
       "      <td>age_standardized_education_per_capita</td>\n",
       "      <td>Years</td>\n",
       "      <td>0.29</td>\n",
       "      <td>0.55</td>\n",
       "      <td>0.15</td>\n",
       "    </tr>\n",
       "    <tr>\n",
       "      <th>1</th>\n",
       "      <td>160</td>\n",
       "      <td>AFG</td>\n",
       "      <td>Afghanistan</td>\n",
       "      <td>1970</td>\n",
       "      <td>157</td>\n",
       "      <td>25 plus</td>\n",
       "      <td>1</td>\n",
       "      <td>Males</td>\n",
       "      <td>age_standardized_education_per_capita</td>\n",
       "      <td>Years</td>\n",
       "      <td>1.03</td>\n",
       "      <td>1.66</td>\n",
       "      <td>0.63</td>\n",
       "    </tr>\n",
       "    <tr>\n",
       "      <th>2</th>\n",
       "      <td>160</td>\n",
       "      <td>AFG</td>\n",
       "      <td>Afghanistan</td>\n",
       "      <td>1970</td>\n",
       "      <td>157</td>\n",
       "      <td>25 plus</td>\n",
       "      <td>2</td>\n",
       "      <td>Females</td>\n",
       "      <td>age_standardized_education_per_capita</td>\n",
       "      <td>Years</td>\n",
       "      <td>0.13</td>\n",
       "      <td>0.24</td>\n",
       "      <td>0.07</td>\n",
       "    </tr>\n",
       "    <tr>\n",
       "      <th>3</th>\n",
       "      <td>160</td>\n",
       "      <td>AFG</td>\n",
       "      <td>Afghanistan</td>\n",
       "      <td>1970</td>\n",
       "      <td>157</td>\n",
       "      <td>25 plus</td>\n",
       "      <td>3</td>\n",
       "      <td>Both</td>\n",
       "      <td>age_standardized_education_per_capita</td>\n",
       "      <td>Years</td>\n",
       "      <td>0.58</td>\n",
       "      <td>0.95</td>\n",
       "      <td>0.35</td>\n",
       "    </tr>\n",
       "    <tr>\n",
       "      <th>4</th>\n",
       "      <td>168</td>\n",
       "      <td>AGO</td>\n",
       "      <td>Angola</td>\n",
       "      <td>1970</td>\n",
       "      <td>156</td>\n",
       "      <td>15 to 44</td>\n",
       "      <td>2</td>\n",
       "      <td>Females</td>\n",
       "      <td>age_standardized_education_per_capita</td>\n",
       "      <td>Years</td>\n",
       "      <td>1.41</td>\n",
       "      <td>2.29</td>\n",
       "      <td>0.85</td>\n",
       "    </tr>\n",
       "  </tbody>\n",
       "</table>\n",
       "</div>"
      ],
      "text/plain": [
       "   location_id location_code location_name  year  age_group_id age_group_name  \\\n",
       "0          160           AFG   Afghanistan  1970           156       15 to 44   \n",
       "1          160           AFG   Afghanistan  1970           157        25 plus   \n",
       "2          160           AFG   Afghanistan  1970           157        25 plus   \n",
       "3          160           AFG   Afghanistan  1970           157        25 plus   \n",
       "4          168           AGO        Angola  1970           156       15 to 44   \n",
       "\n",
       "   sex_id sex_name                                 metric   unit  mean  upper  \\\n",
       "0       2  Females  age_standardized_education_per_capita  Years  0.29   0.55   \n",
       "1       1    Males  age_standardized_education_per_capita  Years  1.03   1.66   \n",
       "2       2  Females  age_standardized_education_per_capita  Years  0.13   0.24   \n",
       "3       3     Both  age_standardized_education_per_capita  Years  0.58   0.95   \n",
       "4       2  Females  age_standardized_education_per_capita  Years  1.41   2.29   \n",
       "\n",
       "   lower  \n",
       "0   0.15  \n",
       "1   0.63  \n",
       "2   0.07  \n",
       "3   0.35  \n",
       "4   0.85  "
      ]
     },
     "execution_count": 13,
     "metadata": {},
     "output_type": "execute_result"
    }
   ],
   "source": [
    "data.head()"
   ]
  },
  {
   "cell_type": "code",
   "execution_count": 14,
   "metadata": {
    "collapsed": false
   },
   "outputs": [
    {
     "data": {
      "text/plain": [
       "array(['age_standardized_education_per_capita', 'education_per_capita',\n",
       "       'population_weighted_education_per_capita'], dtype=object)"
      ]
     },
     "execution_count": 14,
     "metadata": {},
     "output_type": "execute_result"
    }
   ],
   "source": [
    "data.metric.unique()"
   ]
  },
  {
   "cell_type": "code",
   "execution_count": 15,
   "metadata": {
    "collapsed": true
   },
   "outputs": [],
   "source": [
    "met = 'population_weighted_education_per_capita'\n",
    "\n",
    "d1 = data.groupby(by='metric').get_group(met)"
   ]
  },
  {
   "cell_type": "code",
   "execution_count": null,
   "metadata": {
    "collapsed": true
   },
   "outputs": [],
   "source": []
  },
  {
   "cell_type": "code",
   "execution_count": 16,
   "metadata": {
    "collapsed": false
   },
   "outputs": [],
   "source": [
    "for g, idxs in d1.groupby('age_group_name').groups.items():\n",
    "    df = d1.ix[idxs].copy()\n",
    "    for i in ['mean', 'lower', 'upper']:\n",
    "        name = '{}_{}_{}'.format(met, to_concept_id(g), i)\n",
    "        df = df.rename(columns={i: name})\n",
    "        df[['location_id', 'year', 'sex_id', name]].to_csv(\n",
    "            '../../ddf--datapoints--{}--by--location_id-sex_id--year.csv'.format(name), \n",
    "            index=False, float_format='%.2f')"
   ]
  },
  {
   "cell_type": "code",
   "execution_count": 17,
   "metadata": {
    "collapsed": false
   },
   "outputs": [
    {
     "data": {
      "text/plain": [
       "array(['age_standardized_education_per_capita', 'education_per_capita',\n",
       "       'population_weighted_education_per_capita'], dtype=object)"
      ]
     },
     "execution_count": 17,
     "metadata": {},
     "output_type": "execute_result"
    }
   ],
   "source": [
    "data.metric.unique()"
   ]
  },
  {
   "cell_type": "code",
   "execution_count": 18,
   "metadata": {
    "collapsed": false
   },
   "outputs": [],
   "source": [
    "# These 2 lists are for later uses in concept tables\n",
    "\n",
    "names = list()\n",
    "measures = list()\n",
    "\n",
    "for met in cb.metric.drop(0).dropna().unique():\n",
    "    met_id = to_concept_id(met)\n",
    "    d1 = data.groupby(by='metric').get_group(met_id)\n",
    "    for g, idxs in d1.groupby('age_group_name').groups.items():\n",
    "#         df = d1.ix[idxs].copy()\n",
    "        for i in ['mean', 'lower', 'upper']:\n",
    "            measure = '{}_{}_{}'.format(met_id, to_concept_id(g), i)\n",
    "            measures.append(measure)\n",
    "            \n",
    "            if i in ['lower', 'upper']:\n",
    "                name = '{}, Age {}: 95% Uncertainty Interval - {} Bound'.format(met, g, i.title())\n",
    "            else:\n",
    "                name = '{}, Age {}: Mean'.format(met, g)\n",
    "            \n",
    "            names.append(name)"
   ]
  },
  {
   "cell_type": "code",
   "execution_count": 19,
   "metadata": {
    "collapsed": false
   },
   "outputs": [
    {
     "data": {
      "text/plain": [
       "['Age Standardized Education Per Capita, Age 25 plus: Mean',\n",
       " 'Age Standardized Education Per Capita, Age 25 plus: 95% Uncertainty Interval - Lower Bound',\n",
       " 'Age Standardized Education Per Capita, Age 25 plus: 95% Uncertainty Interval - Upper Bound',\n",
       " 'Age Standardized Education Per Capita, Age 15 to 44: Mean',\n",
       " 'Age Standardized Education Per Capita, Age 15 to 44: 95% Uncertainty Interval - Lower Bound',\n",
       " 'Age Standardized Education Per Capita, Age 15 to 44: 95% Uncertainty Interval - Upper Bound',\n",
       " 'Education Per Capita, Age 35 to 44: Mean',\n",
       " 'Education Per Capita, Age 35 to 44: 95% Uncertainty Interval - Lower Bound',\n",
       " 'Education Per Capita, Age 35 to 44: 95% Uncertainty Interval - Upper Bound',\n",
       " 'Education Per Capita, Age 25 to 34: Mean',\n",
       " 'Education Per Capita, Age 25 to 34: 95% Uncertainty Interval - Lower Bound',\n",
       " 'Education Per Capita, Age 25 to 34: 95% Uncertainty Interval - Upper Bound',\n",
       " 'Education Per Capita, Age 15 to 24: Mean',\n",
       " 'Education Per Capita, Age 15 to 24: 95% Uncertainty Interval - Lower Bound',\n",
       " 'Education Per Capita, Age 15 to 24: 95% Uncertainty Interval - Upper Bound',\n",
       " 'Education Per Capita, Age 65 plus: Mean',\n",
       " 'Education Per Capita, Age 65 plus: 95% Uncertainty Interval - Lower Bound',\n",
       " 'Education Per Capita, Age 65 plus: 95% Uncertainty Interval - Upper Bound',\n",
       " 'Education Per Capita, Age 45 to 54: Mean',\n",
       " 'Education Per Capita, Age 45 to 54: 95% Uncertainty Interval - Lower Bound',\n",
       " 'Education Per Capita, Age 45 to 54: 95% Uncertainty Interval - Upper Bound',\n",
       " 'Education Per Capita, Age 55 to 64: Mean',\n",
       " 'Education Per Capita, Age 55 to 64: 95% Uncertainty Interval - Lower Bound',\n",
       " 'Education Per Capita, Age 55 to 64: 95% Uncertainty Interval - Upper Bound',\n",
       " 'Population Weighted Education Per Capita, Age 25 plus: Mean',\n",
       " 'Population Weighted Education Per Capita, Age 25 plus: 95% Uncertainty Interval - Lower Bound',\n",
       " 'Population Weighted Education Per Capita, Age 25 plus: 95% Uncertainty Interval - Upper Bound',\n",
       " 'Population Weighted Education Per Capita, Age 15 to 44: Mean',\n",
       " 'Population Weighted Education Per Capita, Age 15 to 44: 95% Uncertainty Interval - Lower Bound',\n",
       " 'Population Weighted Education Per Capita, Age 15 to 44: 95% Uncertainty Interval - Upper Bound']"
      ]
     },
     "execution_count": 19,
     "metadata": {},
     "output_type": "execute_result"
    }
   ],
   "source": [
    "names"
   ]
  },
  {
   "cell_type": "code",
   "execution_count": null,
   "metadata": {
    "collapsed": true
   },
   "outputs": [],
   "source": []
  },
  {
   "cell_type": "code",
   "execution_count": 20,
   "metadata": {
    "collapsed": true
   },
   "outputs": [],
   "source": [
    "# entities"
   ]
  },
  {
   "cell_type": "code",
   "execution_count": 21,
   "metadata": {
    "collapsed": true
   },
   "outputs": [],
   "source": [
    "# location\n",
    "\n",
    "loc = data[['location_id', 'location_code', 'location_name']].drop_duplicates()"
   ]
  },
  {
   "cell_type": "code",
   "execution_count": 22,
   "metadata": {
    "collapsed": false
   },
   "outputs": [],
   "source": [
    "loc.to_csv('../../ddf--entities--location_id.csv', index=False)"
   ]
  },
  {
   "cell_type": "code",
   "execution_count": null,
   "metadata": {
    "collapsed": true
   },
   "outputs": [],
   "source": []
  },
  {
   "cell_type": "code",
   "execution_count": 23,
   "metadata": {
    "collapsed": false
   },
   "outputs": [],
   "source": [
    "# sex\n",
    "\n",
    "sex = data[['sex_id', 'sex_name']].drop_duplicates()"
   ]
  },
  {
   "cell_type": "code",
   "execution_count": 24,
   "metadata": {
    "collapsed": false
   },
   "outputs": [],
   "source": [
    "sex.to_csv('../../ddf--entities--sex_id.csv', index=False)"
   ]
  },
  {
   "cell_type": "code",
   "execution_count": null,
   "metadata": {
    "collapsed": true
   },
   "outputs": [],
   "source": []
  },
  {
   "cell_type": "code",
   "execution_count": null,
   "metadata": {
    "collapsed": true
   },
   "outputs": [],
   "source": []
  },
  {
   "cell_type": "code",
   "execution_count": 25,
   "metadata": {
    "collapsed": false
   },
   "outputs": [],
   "source": [
    "# concepts"
   ]
  },
  {
   "cell_type": "code",
   "execution_count": 26,
   "metadata": {
    "collapsed": false
   },
   "outputs": [],
   "source": [
    "allcol = cb.ix[0].T"
   ]
  },
  {
   "cell_type": "code",
   "execution_count": 27,
   "metadata": {
    "collapsed": false
   },
   "outputs": [
    {
     "data": {
      "text/plain": [
       "location_id                                             Location ID\n",
       "location_code     Country ISO 3166-1 Alpha-3 Code, GBD Region Co...\n",
       "location_name                 Country, Region, or Super-Region Name\n",
       "year                                                           Year\n",
       "age_group_id                                           Age Group ID\n",
       "age_group_name                                       Age Group Name\n",
       "sex_id                                                       Sex ID\n",
       "sex_name                                                   Sex Name\n",
       "metric                                                       Metric\n",
       "unit                                                           Unit\n",
       "mean                                                           Mean\n",
       "upper                        95% Uncertainty Interval - Upper Bound\n",
       "lower                        95% Uncertainty Interval - Lower Bound\n",
       "Name: 0, dtype: object"
      ]
     },
     "execution_count": 27,
     "metadata": {},
     "output_type": "execute_result"
    }
   ],
   "source": [
    "allcol"
   ]
  },
  {
   "cell_type": "code",
   "execution_count": 28,
   "metadata": {
    "collapsed": true
   },
   "outputs": [],
   "source": [
    "noneed = ['age_group_id', 'age_group_name', 'metric', 'mean', 'unit', 'upper', 'lower']"
   ]
  },
  {
   "cell_type": "code",
   "execution_count": 29,
   "metadata": {
    "collapsed": false
   },
   "outputs": [],
   "source": [
    "concepts = allcol[~allcol.index.isin(noneed)].reset_index()"
   ]
  },
  {
   "cell_type": "code",
   "execution_count": 30,
   "metadata": {
    "collapsed": false
   },
   "outputs": [
    {
     "data": {
      "text/html": [
       "<div>\n",
       "<table border=\"1\" class=\"dataframe\">\n",
       "  <thead>\n",
       "    <tr style=\"text-align: right;\">\n",
       "      <th></th>\n",
       "      <th>concept</th>\n",
       "      <th>name</th>\n",
       "    </tr>\n",
       "  </thead>\n",
       "  <tbody>\n",
       "    <tr>\n",
       "      <th>0</th>\n",
       "      <td>location_id</td>\n",
       "      <td>Location ID</td>\n",
       "    </tr>\n",
       "    <tr>\n",
       "      <th>1</th>\n",
       "      <td>location_code</td>\n",
       "      <td>Country ISO 3166-1 Alpha-3 Code, GBD Region Co...</td>\n",
       "    </tr>\n",
       "    <tr>\n",
       "      <th>2</th>\n",
       "      <td>location_name</td>\n",
       "      <td>Country, Region, or Super-Region Name</td>\n",
       "    </tr>\n",
       "    <tr>\n",
       "      <th>3</th>\n",
       "      <td>year</td>\n",
       "      <td>Year</td>\n",
       "    </tr>\n",
       "    <tr>\n",
       "      <th>4</th>\n",
       "      <td>sex_id</td>\n",
       "      <td>Sex ID</td>\n",
       "    </tr>\n",
       "    <tr>\n",
       "      <th>5</th>\n",
       "      <td>sex_name</td>\n",
       "      <td>Sex Name</td>\n",
       "    </tr>\n",
       "  </tbody>\n",
       "</table>\n",
       "</div>"
      ],
      "text/plain": [
       "         concept                                               name\n",
       "0    location_id                                        Location ID\n",
       "1  location_code  Country ISO 3166-1 Alpha-3 Code, GBD Region Co...\n",
       "2  location_name              Country, Region, or Super-Region Name\n",
       "3           year                                               Year\n",
       "4         sex_id                                             Sex ID\n",
       "5       sex_name                                           Sex Name"
      ]
     },
     "execution_count": 30,
     "metadata": {},
     "output_type": "execute_result"
    }
   ],
   "source": [
    "concepts.columns = ['concept', 'name']\n",
    "concepts"
   ]
  },
  {
   "cell_type": "code",
   "execution_count": 31,
   "metadata": {
    "collapsed": false
   },
   "outputs": [],
   "source": [
    "concepts = concepts.append(pd.DataFrame({'concept': measures, 'name': names}))"
   ]
  },
  {
   "cell_type": "code",
   "execution_count": 32,
   "metadata": {
    "collapsed": true
   },
   "outputs": [],
   "source": [
    "concepts = concepts.set_index('concept')"
   ]
  },
  {
   "cell_type": "code",
   "execution_count": 33,
   "metadata": {
    "collapsed": false
   },
   "outputs": [],
   "source": [
    "concepts.ix[measures, 'concept_type'] = 'measure'\n",
    "concepts.ix[['location_id', 'sex_id'], 'concept_type'] = 'entity_domain'\n",
    "concepts.ix[['location_code', 'location_name', 'sex_name'], 'concept_type'] = 'string'\n",
    "concepts.ix['year', 'concept_type'] = 'time'"
   ]
  },
  {
   "cell_type": "code",
   "execution_count": 34,
   "metadata": {
    "collapsed": true
   },
   "outputs": [],
   "source": [
    "concepts.ix['name', ['concept_type', 'name']] = ['string', 'Name']"
   ]
  },
  {
   "cell_type": "code",
   "execution_count": 35,
   "metadata": {
    "collapsed": false
   },
   "outputs": [],
   "source": [
    "concepts.to_csv('../../ddf--concepts.csv')"
   ]
  },
  {
   "cell_type": "code",
   "execution_count": 37,
   "metadata": {
    "collapsed": false
   },
   "outputs": [
    {
     "name": "stdout",
     "output_type": "stream",
     "text": [
      "[\n",
      "{}]\n",
      "\n"
     ]
    }
   ],
   "source": [
    "!validate-ddf ../../"
   ]
  },
  {
   "cell_type": "code",
   "execution_count": null,
   "metadata": {
    "collapsed": true
   },
   "outputs": [],
   "source": []
  }
 ],
 "metadata": {
  "kernelspec": {
   "display_name": "Python 3",
   "language": "python",
   "name": "python3"
  },
  "language_info": {
   "codemirror_mode": {
    "name": "ipython",
    "version": 3
   },
   "file_extension": ".py",
   "mimetype": "text/x-python",
   "name": "python",
   "nbconvert_exporter": "python",
   "pygments_lexer": "ipython3",
   "version": "3.5.2"
  }
 },
 "nbformat": 4,
 "nbformat_minor": 1
}
